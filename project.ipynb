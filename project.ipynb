{
 "cells": [
  {
   "cell_type": "code",
   "execution_count": null,
   "metadata": {},
   "outputs": [],
   "source": [
    "import requests\n",
    "from PIL import Image as img\n",
    "from collections import Counter as cnt\n",
    "import matplotlib.pyplot as plt\n",
    "\n",
    "class Color:\n",
    "    def __init__(self):\n",
    "        self.r = None\n",
    "        self.g = None\n",
    "        self.b = None\n",
    "        self.color_name = None\n",
    "\n",
    "    def rgb_finder(self, image_path):\n",
    "        jpg = img.open(image_path)\n",
    "        jpg_rgb = jpg.convert('RGB')\n",
    "        rgb_list = list(jpg_rgb.getdata())\n",
    "        rgb_list_count = cnt(rgb_list)\n",
    "        (self.r, self.g, self.b), count = rgb_list_count.most_common(1)[0]\n",
    "\n",
    "    def color_name_finder(self):\n",
    "        url = f\"https://www.thecolorapi.com/id?rgb={self.r},{self.g},{self.b}&format=json\"\n",
    "        response = requests.get(url)\n",
    "        if response.status_code == 200:\n",
    "            data = response.json()\n",
    "            self.color_name = data.get('name')\n",
    "\n",
    "    def display_color_info(self):\n",
    "        return f\"Most Common RGB: ({self.r}, {self.g}, {self.b}), Extracted Data: {self.color_name}\"\n",
    "\n",
    "    def plt_chart(self):\n",
    "        plt.bar(['Red Units', 'Green Units', 'Blue Units'], [self.r, self.g, self.b], color=['red', 'green', 'blue'])\n",
    "        plt.title(\"RGB Unit Visualization\")\n",
    "        plt.ylabel(\"RBG Units (0-255)\")\n",
    "        plt.show()\n",
    "\n",
    "    def plt_chart2(self):\n",
    "        plt.bar(f'RGB: ({self.r}, {self.g}, {self.b})', 1, color = (self.r/255, self.g/255, self.b/255))\n",
    "        plt.title(\"RGB Color Visualization\")\n",
    "        plt.yticks([])\n",
    "        plt.show()"
   ]
  },
  {
   "cell_type": "code",
   "execution_count": null,
   "metadata": {},
   "outputs": [],
   "source": [
    "class Process_User_Input(Color):\n",
    "    def process_image(self):\n",
    "        jpg_name = input('Input the full name of the JPG file: ')\n",
    "        self.rgb_finder(jpg_name)  \n",
    "        self.color_name_finder()\n",
    "        print(self.display_color_info())\n",
    "        self.plt_chart()\n",
    "        self.plt_chart2()\n",
    "Instance = Process_User_Input()\n",
    "Instance.process_image()"
   ]
  }
 ],
 "metadata": {
  "kernelspec": {
   "display_name": "base",
   "language": "python",
   "name": "python3"
  },
  "language_info": {
   "codemirror_mode": {
    "name": "ipython",
    "version": 3
   },
   "file_extension": ".py",
   "mimetype": "text/x-python",
   "name": "python",
   "nbconvert_exporter": "python",
   "pygments_lexer": "ipython3",
   "version": "3.12.4"
  }
 },
 "nbformat": 4,
 "nbformat_minor": 2
}
